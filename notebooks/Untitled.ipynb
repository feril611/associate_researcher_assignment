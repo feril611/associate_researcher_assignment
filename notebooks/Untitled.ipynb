{
 "cells": [
  {
   "cell_type": "code",
   "execution_count": 258,
   "id": "a7404c42-6478-4c5e-a4bb-f17a4b55fe6c",
   "metadata": {},
   "outputs": [],
   "source": [
    "import pandas as pd\n",
    "from pathlib import Path"
   ]
  },
  {
   "cell_type": "markdown",
   "id": "7f8923f8-8e4c-40c0-9abb-01353589f024",
   "metadata": {},
   "source": [
    "# Preprocessing / Checking Data"
   ]
  },
  {
   "cell_type": "code",
   "execution_count": 259,
   "id": "c0458018-eb09-407b-8d5c-c55944a7ab9a",
   "metadata": {},
   "outputs": [],
   "source": [
    "# path to the csv file(data)\n",
    "data_path = Path(\"../data/training-dataset.csv\")\n"
   ]
  },
  {
   "cell_type": "code",
   "execution_count": 260,
   "id": "9927a120-15bd-4550-8b16-725c8fa679f1",
   "metadata": {},
   "outputs": [],
   "source": [
    "#reading the csv file ... most of the time there is issue with the text type that is why I put encoding 'utf-8'\n",
    "\n",
    "df = pd.read_csv(data_path, encoding=\"utf-8\")"
   ]
  },
  {
   "cell_type": "code",
   "execution_count": 261,
   "id": "b6c01e56-703c-42ce-8d24-c2a8f38c1d62",
   "metadata": {},
   "outputs": [
    {
     "data": {
      "text/html": [
       "<div>\n",
       "<style scoped>\n",
       "    .dataframe tbody tr th:only-of-type {\n",
       "        vertical-align: middle;\n",
       "    }\n",
       "\n",
       "    .dataframe tbody tr th {\n",
       "        vertical-align: top;\n",
       "    }\n",
       "\n",
       "    .dataframe thead th {\n",
       "        text-align: right;\n",
       "    }\n",
       "</style>\n",
       "<table border=\"1\" class=\"dataframe\">\n",
       "  <thead>\n",
       "    <tr style=\"text-align: right;\">\n",
       "      <th></th>\n",
       "      <th>note_id</th>\n",
       "      <th>text</th>\n",
       "      <th>label</th>\n",
       "    </tr>\n",
       "  </thead>\n",
       "  <tbody>\n",
       "    <tr>\n",
       "      <th>0</th>\n",
       "      <td>N2013</td>\n",
       "      <td>Patient reports flooding during menses since m...</td>\n",
       "      <td>1</td>\n",
       "    </tr>\n",
       "    <tr>\n",
       "      <th>1</th>\n",
       "      <td>N2015</td>\n",
       "      <td>Patient reports heavy menses since stopping OC...</td>\n",
       "      <td>1</td>\n",
       "    </tr>\n",
       "    <tr>\n",
       "      <th>2</th>\n",
       "      <td>N2022</td>\n",
       "      <td>Patient reports HMB for the past 6 months, des...</td>\n",
       "      <td>1</td>\n",
       "    </tr>\n",
       "    <tr>\n",
       "      <th>3</th>\n",
       "      <td>N2042</td>\n",
       "      <td>Patient no menorrhagia; menses reported as reg...</td>\n",
       "      <td>0</td>\n",
       "    </tr>\n",
       "    <tr>\n",
       "      <th>4</th>\n",
       "      <td>N2030</td>\n",
       "      <td>Patient bleeding within normal limits; menses ...</td>\n",
       "      <td>0</td>\n",
       "    </tr>\n",
       "  </tbody>\n",
       "</table>\n",
       "</div>"
      ],
      "text/plain": [
       "  note_id                                               text  label\n",
       "0   N2013  Patient reports flooding during menses since m...      1\n",
       "1   N2015  Patient reports heavy menses since stopping OC...      1\n",
       "2   N2022  Patient reports HMB for the past 6 months, des...      1\n",
       "3   N2042  Patient no menorrhagia; menses reported as reg...      0\n",
       "4   N2030  Patient bleeding within normal limits; menses ...      0"
      ]
     },
     "execution_count": 261,
     "metadata": {},
     "output_type": "execute_result"
    }
   ],
   "source": [
    "#checking top rows \n",
    "df.head()"
   ]
  },
  {
   "cell_type": "code",
   "execution_count": 262,
   "id": "1225d15a-c5b9-4de2-b27a-86f8d912a692",
   "metadata": {},
   "outputs": [
    {
     "name": "stdout",
     "output_type": "stream",
     "text": [
      " Shape (rows, cols): (50, 3)\n",
      " Columns: ['note_id', 'text', 'label']\n"
     ]
    }
   ],
   "source": [
    "\n",
    "# the shape of file ( num of rows and columns)\n",
    "# list the name of columns\n",
    "\n",
    "print(\" Shape (rows, cols):\", df.shape)\n",
    "print(\" Columns:\", list(df.columns))"
   ]
  },
  {
   "cell_type": "code",
   "execution_count": 263,
   "id": "4fe33a9d-c6fb-4880-85a5-9f1d4d295c5e",
   "metadata": {},
   "outputs": [
    {
     "data": {
      "text/plain": [
       "note_id    0.0\n",
       "text       0.0\n",
       "label      0.0\n",
       "dtype: float64"
      ]
     },
     "metadata": {},
     "output_type": "display_data"
    }
   ],
   "source": [
    "#Checking how many missing values each column has\n",
    "null_fraction = df.isna().mean().sort_values(ascending=False)\n",
    "display(null_fraction.head(10))"
   ]
  },
  {
   "cell_type": "code",
   "execution_count": 264,
   "id": "bae62148-a7c1-4ed1-b8fa-1465ffb4981a",
   "metadata": {},
   "outputs": [
    {
     "name": "stdout",
     "output_type": "stream",
     "text": [
      " Duplicate rows: 0\n"
     ]
    }
   ],
   "source": [
    "# counting exact duplicate rows\n",
    "dup_count = df.duplicated().sum()\n",
    "\n",
    "print(f\" Duplicate rows: {dup_count}\")"
   ]
  },
  {
   "cell_type": "code",
   "execution_count": 265,
   "id": "c087c2ee-9e54-40a2-81c0-ab48b4cb78ad",
   "metadata": {},
   "outputs": [
    {
     "name": "stdout",
     "output_type": "stream",
     "text": [
      "Unique (raw): [1 0]\n"
     ]
    }
   ],
   "source": [
    "# checking if label column is 0/1 all of them \n",
    "print(\"Unique (raw):\", pd.unique(df['label']))"
   ]
  },
  {
   "cell_type": "code",
   "execution_count": 266,
   "id": "d2d97ad9-8608-4ee2-8e94-2b58de18319e",
   "metadata": {},
   "outputs": [
    {
     "name": "stdout",
     "output_type": "stream",
     "text": [
      "Empty/whitespace-only texts: 0\n",
      " None found\n"
     ]
    }
   ],
   "source": [
    "# if we had longer and larger dataset \n",
    "#checking if texts are empty or whitespaced\n",
    "\n",
    "s = df['text'].astype(str)\n",
    "s_norm = s.str.replace(r\"\\s+\", \" \", regex=True).str.strip()\n",
    "\n",
    "empty_mask = df['text'].isna() | s_norm.eq(\"\")\n",
    "print(\"Empty/whitespace-only texts:\", int(empty_mask.sum()))\n",
    "df.loc[empty_mask, ['note_id','text']].head(10) if empty_mask.any() else print(\" None found\")\n"
   ]
  },
  {
   "cell_type": "code",
   "execution_count": 267,
   "id": "6e88b3b4-c144-405c-b7b8-66b04fe89256",
   "metadata": {},
   "outputs": [
    {
     "data": {
      "text/plain": [
       "26"
      ]
     },
     "execution_count": 267,
     "metadata": {},
     "output_type": "execute_result"
    }
   ],
   "source": [
    "len(df[df['label'] == 1 ]) # number of classes 1 \n"
   ]
  },
  {
   "cell_type": "code",
   "execution_count": 268,
   "id": "f19eee7d-4687-4e2e-b1a6-b5e62ae1c9fd",
   "metadata": {},
   "outputs": [
    {
     "data": {
      "text/plain": [
       "24"
      ]
     },
     "execution_count": 268,
     "metadata": {},
     "output_type": "execute_result"
    }
   ],
   "source": [
    "len(df[df['label'] == 0]) # number of classes 0\n"
   ]
  },
  {
   "cell_type": "code",
   "execution_count": 269,
   "id": "81521298-7f00-42ba-a71f-0ecaf5a4a777",
   "metadata": {},
   "outputs": [
    {
     "data": {
      "text/html": [
       "<div>\n",
       "<style scoped>\n",
       "    .dataframe tbody tr th:only-of-type {\n",
       "        vertical-align: middle;\n",
       "    }\n",
       "\n",
       "    .dataframe tbody tr th {\n",
       "        vertical-align: top;\n",
       "    }\n",
       "\n",
       "    .dataframe thead th {\n",
       "        text-align: right;\n",
       "    }\n",
       "</style>\n",
       "<table border=\"1\" class=\"dataframe\">\n",
       "  <thead>\n",
       "    <tr style=\"text-align: right;\">\n",
       "      <th></th>\n",
       "      <th>text</th>\n",
       "      <th>label</th>\n",
       "    </tr>\n",
       "  </thead>\n",
       "  <tbody>\n",
       "    <tr>\n",
       "      <th>0</th>\n",
       "      <td>Patient reports flooding during menses since m...</td>\n",
       "      <td>1</td>\n",
       "    </tr>\n",
       "    <tr>\n",
       "      <th>1</th>\n",
       "      <td>Patient reports heavy menses since stopping OC...</td>\n",
       "      <td>1</td>\n",
       "    </tr>\n",
       "    <tr>\n",
       "      <th>2</th>\n",
       "      <td>Patient reports HMB for the past 6 months, des...</td>\n",
       "      <td>1</td>\n",
       "    </tr>\n",
       "    <tr>\n",
       "      <th>3</th>\n",
       "      <td>Patient no menorrhagia; menses reported as reg...</td>\n",
       "      <td>0</td>\n",
       "    </tr>\n",
       "    <tr>\n",
       "      <th>4</th>\n",
       "      <td>Patient bleeding within normal limits; menses ...</td>\n",
       "      <td>0</td>\n",
       "    </tr>\n",
       "  </tbody>\n",
       "</table>\n",
       "</div>"
      ],
      "text/plain": [
       "                                                text  label\n",
       "0  Patient reports flooding during menses since m...      1\n",
       "1  Patient reports heavy menses since stopping OC...      1\n",
       "2  Patient reports HMB for the past 6 months, des...      1\n",
       "3  Patient no menorrhagia; menses reported as reg...      0\n",
       "4  Patient bleeding within normal limits; menses ...      0"
      ]
     },
     "execution_count": 269,
     "metadata": {},
     "output_type": "execute_result"
    }
   ],
   "source": [
    "df = df[[\"text\", \"label\"]].dropna()   \n",
    "df.head()"
   ]
  },
  {
   "cell_type": "markdown",
   "id": "017ea63a-223f-46ce-9f29-f3c929895b74",
   "metadata": {},
   "source": [
    "## 2.\tTokenize the text field using a Hugging Face model (e.g., `bert-base-uncased`)."
   ]
  },
  {
   "cell_type": "code",
   "execution_count": 270,
   "id": "98078cc2-22af-404a-afe6-1fb0dd88ef02",
   "metadata": {},
   "outputs": [],
   "source": [
    "\n",
    "import numpy as np\n",
    "\n",
    "from datasets import Dataset\n"
   ]
  },
  {
   "cell_type": "code",
   "execution_count": 271,
   "id": "8e096df0-0b14-48b7-8cbe-d6c083f6ea9d",
   "metadata": {},
   "outputs": [
    {
     "data": {
      "text/html": [
       "<div>\n",
       "<style scoped>\n",
       "    .dataframe tbody tr th:only-of-type {\n",
       "        vertical-align: middle;\n",
       "    }\n",
       "\n",
       "    .dataframe tbody tr th {\n",
       "        vertical-align: top;\n",
       "    }\n",
       "\n",
       "    .dataframe thead th {\n",
       "        text-align: right;\n",
       "    }\n",
       "</style>\n",
       "<table border=\"1\" class=\"dataframe\">\n",
       "  <thead>\n",
       "    <tr style=\"text-align: right;\">\n",
       "      <th></th>\n",
       "      <th>text</th>\n",
       "      <th>label</th>\n",
       "    </tr>\n",
       "  </thead>\n",
       "  <tbody>\n",
       "    <tr>\n",
       "      <th>9</th>\n",
       "      <td>Patient bleeding within normal limits; menses ...</td>\n",
       "      <td>0</td>\n",
       "    </tr>\n",
       "    <tr>\n",
       "      <th>39</th>\n",
       "      <td>Patient reports heavy menstrual bleeding worse...</td>\n",
       "      <td>1</td>\n",
       "    </tr>\n",
       "    <tr>\n",
       "      <th>15</th>\n",
       "      <td>Patient no flooding or pad saturation; menses ...</td>\n",
       "      <td>0</td>\n",
       "    </tr>\n",
       "    <tr>\n",
       "      <th>17</th>\n",
       "      <td>Patient bleeding within normal limits; menses ...</td>\n",
       "      <td>0</td>\n",
       "    </tr>\n",
       "    <tr>\n",
       "      <th>13</th>\n",
       "      <td>Patient reports heavy menstrual bleeding since...</td>\n",
       "      <td>1</td>\n",
       "    </tr>\n",
       "    <tr>\n",
       "      <th>3</th>\n",
       "      <td>Patient no menorrhagia; menses reported as reg...</td>\n",
       "      <td>0</td>\n",
       "    </tr>\n",
       "    <tr>\n",
       "      <th>31</th>\n",
       "      <td>Patient denies heavy bleeding; menses reported...</td>\n",
       "      <td>0</td>\n",
       "    </tr>\n",
       "    <tr>\n",
       "      <th>48</th>\n",
       "      <td>Patient reports menorrhagia since stopping OCP...</td>\n",
       "      <td>1</td>\n",
       "    </tr>\n",
       "    <tr>\n",
       "      <th>12</th>\n",
       "      <td>Patient no evidence of heavy periods; menses r...</td>\n",
       "      <td>0</td>\n",
       "    </tr>\n",
       "    <tr>\n",
       "      <th>45</th>\n",
       "      <td>Patient reports very heavy periods worsened in...</td>\n",
       "      <td>1</td>\n",
       "    </tr>\n",
       "    <tr>\n",
       "      <th>0</th>\n",
       "      <td>Patient reports flooding during menses since m...</td>\n",
       "      <td>1</td>\n",
       "    </tr>\n",
       "    <tr>\n",
       "      <th>26</th>\n",
       "      <td>Patient reports heavy menstrual bleeding worse...</td>\n",
       "      <td>1</td>\n",
       "    </tr>\n",
       "    <tr>\n",
       "      <th>34</th>\n",
       "      <td>Patient reports very heavy periods worsened in...</td>\n",
       "      <td>1</td>\n",
       "    </tr>\n",
       "    <tr>\n",
       "      <th>14</th>\n",
       "      <td>Patient reports HMB over the last 3 cycles, de...</td>\n",
       "      <td>1</td>\n",
       "    </tr>\n",
       "    <tr>\n",
       "      <th>7</th>\n",
       "      <td>Patient reports very heavy periods since IUD p...</td>\n",
       "      <td>1</td>\n",
       "    </tr>\n",
       "    <tr>\n",
       "      <th>10</th>\n",
       "      <td>Patient flow is light to moderate; menses repo...</td>\n",
       "      <td>0</td>\n",
       "    </tr>\n",
       "    <tr>\n",
       "      <th>33</th>\n",
       "      <td>Patient reports menorrhagia over the last 3 cy...</td>\n",
       "      <td>1</td>\n",
       "    </tr>\n",
       "    <tr>\n",
       "      <th>21</th>\n",
       "      <td>Patient reports HMB since stopping OCPs, descr...</td>\n",
       "      <td>1</td>\n",
       "    </tr>\n",
       "    <tr>\n",
       "      <th>19</th>\n",
       "      <td>Patient reports heavy menstrual bleeding over ...</td>\n",
       "      <td>1</td>\n",
       "    </tr>\n",
       "    <tr>\n",
       "      <th>36</th>\n",
       "      <td>Patient no menorrhagia; menses reported as reg...</td>\n",
       "      <td>0</td>\n",
       "    </tr>\n",
       "    <tr>\n",
       "      <th>27</th>\n",
       "      <td>Patient reports heavy menstrual bleeding since...</td>\n",
       "      <td>1</td>\n",
       "    </tr>\n",
       "    <tr>\n",
       "      <th>28</th>\n",
       "      <td>Patient denies heavy bleeding; menses reported...</td>\n",
       "      <td>0</td>\n",
       "    </tr>\n",
       "    <tr>\n",
       "      <th>43</th>\n",
       "      <td>Patient no evidence of heavy periods; menses r...</td>\n",
       "      <td>0</td>\n",
       "    </tr>\n",
       "    <tr>\n",
       "      <th>32</th>\n",
       "      <td>Patient reports excessive menstrual flow since...</td>\n",
       "      <td>1</td>\n",
       "    </tr>\n",
       "    <tr>\n",
       "      <th>49</th>\n",
       "      <td>Patient no menorrhagia; menses reported as reg...</td>\n",
       "      <td>0</td>\n",
       "    </tr>\n",
       "    <tr>\n",
       "      <th>24</th>\n",
       "      <td>Patient no flooding or pad saturation; menses ...</td>\n",
       "      <td>0</td>\n",
       "    </tr>\n",
       "    <tr>\n",
       "      <th>46</th>\n",
       "      <td>Patient reports excessive menstrual flow worse...</td>\n",
       "      <td>1</td>\n",
       "    </tr>\n",
       "    <tr>\n",
       "      <th>42</th>\n",
       "      <td>Patient bleeding within normal limits; menses ...</td>\n",
       "      <td>0</td>\n",
       "    </tr>\n",
       "    <tr>\n",
       "      <th>5</th>\n",
       "      <td>Patient no menorrhagia; menses reported as reg...</td>\n",
       "      <td>0</td>\n",
       "    </tr>\n",
       "    <tr>\n",
       "      <th>20</th>\n",
       "      <td>Patient no menorrhagia; menses reported as reg...</td>\n",
       "      <td>0</td>\n",
       "    </tr>\n",
       "    <tr>\n",
       "      <th>8</th>\n",
       "      <td>Patient reports heavy menstrual bleeding since...</td>\n",
       "      <td>1</td>\n",
       "    </tr>\n",
       "    <tr>\n",
       "      <th>29</th>\n",
       "      <td>Patient reports excessive menstrual flow for t...</td>\n",
       "      <td>1</td>\n",
       "    </tr>\n",
       "    <tr>\n",
       "      <th>30</th>\n",
       "      <td>Patient denies heavy bleeding; menses reported...</td>\n",
       "      <td>0</td>\n",
       "    </tr>\n",
       "    <tr>\n",
       "      <th>6</th>\n",
       "      <td>Patient reports excessive menstrual flow for t...</td>\n",
       "      <td>1</td>\n",
       "    </tr>\n",
       "    <tr>\n",
       "      <th>4</th>\n",
       "      <td>Patient bleeding within normal limits; menses ...</td>\n",
       "      <td>0</td>\n",
       "    </tr>\n",
       "  </tbody>\n",
       "</table>\n",
       "</div>"
      ],
      "text/plain": [
       "                                                 text  label\n",
       "9   Patient bleeding within normal limits; menses ...      0\n",
       "39  Patient reports heavy menstrual bleeding worse...      1\n",
       "15  Patient no flooding or pad saturation; menses ...      0\n",
       "17  Patient bleeding within normal limits; menses ...      0\n",
       "13  Patient reports heavy menstrual bleeding since...      1\n",
       "3   Patient no menorrhagia; menses reported as reg...      0\n",
       "31  Patient denies heavy bleeding; menses reported...      0\n",
       "48  Patient reports menorrhagia since stopping OCP...      1\n",
       "12  Patient no evidence of heavy periods; menses r...      0\n",
       "45  Patient reports very heavy periods worsened in...      1\n",
       "0   Patient reports flooding during menses since m...      1\n",
       "26  Patient reports heavy menstrual bleeding worse...      1\n",
       "34  Patient reports very heavy periods worsened in...      1\n",
       "14  Patient reports HMB over the last 3 cycles, de...      1\n",
       "7   Patient reports very heavy periods since IUD p...      1\n",
       "10  Patient flow is light to moderate; menses repo...      0\n",
       "33  Patient reports menorrhagia over the last 3 cy...      1\n",
       "21  Patient reports HMB since stopping OCPs, descr...      1\n",
       "19  Patient reports heavy menstrual bleeding over ...      1\n",
       "36  Patient no menorrhagia; menses reported as reg...      0\n",
       "27  Patient reports heavy menstrual bleeding since...      1\n",
       "28  Patient denies heavy bleeding; menses reported...      0\n",
       "43  Patient no evidence of heavy periods; menses r...      0\n",
       "32  Patient reports excessive menstrual flow since...      1\n",
       "49  Patient no menorrhagia; menses reported as reg...      0\n",
       "24  Patient no flooding or pad saturation; menses ...      0\n",
       "46  Patient reports excessive menstrual flow worse...      1\n",
       "42  Patient bleeding within normal limits; menses ...      0\n",
       "5   Patient no menorrhagia; menses reported as reg...      0\n",
       "20  Patient no menorrhagia; menses reported as reg...      0\n",
       "8   Patient reports heavy menstrual bleeding since...      1\n",
       "29  Patient reports excessive menstrual flow for t...      1\n",
       "30  Patient denies heavy bleeding; menses reported...      0\n",
       "6   Patient reports excessive menstrual flow for t...      1\n",
       "4   Patient bleeding within normal limits; menses ...      0"
      ]
     },
     "execution_count": 271,
     "metadata": {},
     "output_type": "execute_result"
    }
   ],
   "source": [
    "from sklearn.model_selection import train_test_split\n",
    "\n",
    "#splitting train_val with stratify so it is balanced\n",
    "train_df, val_df = train_test_split(\n",
    "    df,\n",
    "    test_size=0.3,\n",
    "    random_state=46,\n",
    "    stratify=df[\"label\"],\n",
    ")\n",
    "train_df"
   ]
  },
  {
   "cell_type": "code",
   "execution_count": 272,
   "id": "f4f44c59-51e2-4032-bc3e-7cab162dfce5",
   "metadata": {},
   "outputs": [],
   "source": [
    "from transformers import AutoTokenizer"
   ]
  },
  {
   "cell_type": "code",
   "execution_count": 273,
   "id": "55eb88a7-61c3-4179-a872-fad4b7e45dd8",
   "metadata": {},
   "outputs": [],
   "source": [
    "tokenizer = AutoTokenizer.from_pretrained(\"distilbert-base-uncased\")\n",
    "\n",
    "max_length = 128"
   ]
  },
  {
   "cell_type": "code",
   "execution_count": 274,
   "id": "2afb1937-7cc9-4eed-bb04-6dc86a7eb79d",
   "metadata": {},
   "outputs": [],
   "source": [
    "\n",
    "train_enc = tokenizer(train_df[\"text\"].astype(str).tolist(),truncation=True,padding=\"max_length\",max_length=max_length)\n",
    "\n",
    "val_enc = tokenizer(val_df[\"text\"].astype(str).tolist(),truncation=True,padding=\"max_length\",max_length=max_length)\n",
    "\n"
   ]
  },
  {
   "cell_type": "code",
   "execution_count": 291,
   "id": "c2559d4a-43ad-4405-a1f9-3fb0d6169da2",
   "metadata": {},
   "outputs": [],
   "source": [
    "# Torch Dataset / DataLoader\n",
    "from torch.utils.data import Dataset, DataLoader\n",
    "\n",
    "class E_dataset(Dataset):\n",
    "    def __init__(self, enc, labels):\n",
    "        self.enc = enc\n",
    " \n",
    "        self.labels = np.asarray(labels, dtype=np.int64).tolist()\n",
    "\n",
    "    def __len__(self):\n",
    "        return len(self.labels)\n",
    "\n",
    "    def __getitem__(self, i):\n",
    "        return {\n",
    "            \"input_ids\": torch.tensor(self.enc[\"input_ids\"][i], dtype=torch.long),\n",
    "            \"attention_mask\": torch.tensor(self.enc[\"attention_mask\"][i], dtype=torch.long),\n",
    "            \"labels\": torch.tensor(self.labels[i], dtype=torch.long),\n",
    "        }\n",
    "train_ds = E_dataset(train_enc, train_df[\"label\"])\n",
    "val_ds   = E_dataset(val_enc,   val_df[\"label\"])\n",
    "# creating dataloaders\n",
    "train_loader = DataLoader(train_ds, batch_size=8, shuffle=True)\n",
    "val_loader   = DataLoader(val_ds,   batch_size=4, shuffle=False)\n"
   ]
  },
  {
   "cell_type": "markdown",
   "id": "b96e4923-a9e1-427d-bcc9-7277ca3f921c",
   "metadata": {},
   "source": [
    "## 3.\tTrain a small classifier (e.g., `distilbert-base-uncased`) for 1–2 epochs."
   ]
  },
  {
   "cell_type": "code",
   "execution_count": 297,
   "id": "a0fbef17-4d27-4cd6-8e18-bf51f9772d9f",
   "metadata": {},
   "outputs": [
    {
     "name": "stdout",
     "output_type": "stream",
     "text": [
      "Device: cpu\n"
     ]
    },
    {
     "name": "stderr",
     "output_type": "stream",
     "text": [
      "Some weights of DistilBertForSequenceClassification were not initialized from the model checkpoint at distilbert-base-uncased and are newly initialized: ['classifier.bias', 'classifier.weight', 'pre_classifier.bias', 'pre_classifier.weight']\n",
      "You should probably TRAIN this model on a down-stream task to be able to use it for predictions and inference.\n"
     ]
    }
   ],
   "source": [
    "import torch\n",
    "from torch.optim import AdamW\n",
    "## for future of the project , if data becomes large do we have gpu available or not \n",
    "device = torch.device(\"cuda\" if torch.cuda.is_available() else \"cpu\")\n",
    "print(\"Device:\", device)\n",
    "\n",
    "## Loaded a pretrained DistilBERT with a 2-class (0/1) classification head \n",
    "model = AutoModelForSequenceClassification.from_pretrained(\"distilbert-base-uncased\", num_labels=2).to(device)\n",
    "\n",
    "opt = AdamW(model.parameters(), lr=1e-5, weight_decay=0.01)\n"
   ]
  },
  {
   "cell_type": "code",
   "execution_count": 298,
   "id": "4bcc1e58-e932-4d17-8dc1-c3caca91d6c0",
   "metadata": {},
   "outputs": [],
   "source": [
    "from transformers import  AutoModelForSequenceClassification\n",
    "from sklearn.metrics import accuracy_score, f1_score\n"
   ]
  },
  {
   "cell_type": "code",
   "execution_count": 308,
   "id": "b5464cfb-df16-4afc-bc40-be9257c1b689",
   "metadata": {},
   "outputs": [],
   "source": [
    "\n",
    "def evaluate(model, loader, device):\n",
    "    \n",
    "    model.eval()\n",
    "    \n",
    "    all_preds, all_labels = [], []\n",
    "    \n",
    "    total_loss, steps = 0.0, 0\n",
    "    \n",
    "    with torch.no_grad(): # no gradients needed during evaluation\n",
    "        for batch in loader:              \n",
    "            # move tensors to the same device as the model\n",
    "            batch = {k: v.to(device) for k, v in batch.items()}\n",
    "            \n",
    "            out = model(**batch)\n",
    "            \n",
    "            total_loss += float(out.loss); steps += 1\n",
    "            \n",
    "             # converting logits  predicted class index (0 or 1)\n",
    "            preds  = out.logits.argmax(dim=-1).detach().cpu().numpy()\n",
    "            \n",
    "            # grabing ground-truth labels\n",
    "            labels = batch[\"labels\"].detach().cpu().numpy()\n",
    "            \n",
    "            all_preds.extend(preds.tolist())\n",
    "            \n",
    "            all_labels.extend(labels.tolist())\n",
    "            \n",
    "    return {\n",
    "        \"loss\": total_loss / max(1, steps),\n",
    "        \"accuracy\": accuracy_score(all_labels, all_preds),\n",
    "        \"f1\": f1_score(all_labels, all_preds, average=\"weighted\"),\n",
    "        \"cm\": confusion_matrix(all_labels, all_preds, labels=[0,1]),\n",
    "    }\n"
   ]
  },
  {
   "cell_type": "code",
   "execution_count": 309,
   "id": "b93a99b4-dfff-478f-a409-0dc4ad44e39b",
   "metadata": {},
   "outputs": [
    {
     "name": "stdout",
     "output_type": "stream",
     "text": [
      "Epoch 1 Step 5/5 | Avg Train Loss 0.1037\n",
      "[Epoch 1] Train Acc 1.0000 | Train F1 1.0000 || Val Loss 0.0707 | Val Acc 1.0000 | Val F1 1.0000\n",
      "Epoch 2 Step 5/5 | Avg Train Loss 0.0757\n",
      "[Epoch 2] Train Acc 1.0000 | Train F1 1.0000 || Val Loss 0.0539 | Val Acc 1.0000 | Val F1 1.0000\n",
      "\n",
      "Validation Accuracy: 1.0\n",
      "Validation F1: 1.0\n"
     ]
    }
   ],
   "source": [
    "\n",
    "epochs = 2\n",
    "\n",
    "\n",
    "for epoch in range(1, epochs + 1):\n",
    "    model.train()\n",
    "    running = 0.0 # running average of training loss in this epoch\n",
    "\n",
    "    # collect train metrics across the epoch\n",
    "    train_preds, train_labels = [], []\n",
    "\n",
    "    for step, batch in enumerate(train_loader, start=1): # step batch counter\n",
    "        \n",
    "        batch = {k: v.to(device) for k, v in batch.items()}\n",
    "\n",
    "        opt.zero_grad(set_to_none=True)        # clear grads \n",
    "        \n",
    "        out = model(**batch)                    # forward: returns loss and logits \n",
    "        #print(out)\n",
    "        loss = out.loss\n",
    "        \n",
    "        loss.backward()                         # backprop\n",
    "        \n",
    "        opt.step()                              # updating weights\n",
    "        \n",
    "\n",
    "        running += loss.item()\n",
    "\n",
    "        # accumulate predictions/labels for train metrics\n",
    "        preds = out.logits.argmax(dim=-1).detach().cpu().tolist()\n",
    "        \n",
    "        #print(preds)\n",
    "        \n",
    "        labels = batch[\"labels\"].detach().cpu().tolist()\n",
    "        \n",
    "        #print(labels)\n",
    "        \n",
    "        train_preds.extend(preds)\n",
    "        \n",
    "        train_labels.extend(labels)\n",
    "\n",
    "        if step % 5 == 0 or step == len(train_loader): # print every 5\n",
    "            \n",
    "            print(f\"Epoch {epoch} Step {step}/{len(train_loader)} | Avg Train Loss {running/step:.4f}\")\n",
    "\n",
    "    # compute train metrics\n",
    "    train_acc = accuracy_score(train_labels, train_preds)\n",
    "    \n",
    "    train_f1  = f1_score(train_labels, train_preds, average=\"weighted\")\n",
    "    \n",
    "\n",
    "    # validation metrics \n",
    "    val = evaluate(model, val_loader, device)\n",
    "    print(\n",
    "        f\"[Epoch {epoch}] \"\n",
    "        f\"Train Acc {train_acc:.4f} | Train F1 {train_f1:.4f} || \"\n",
    "        f\"Val Loss {val['loss']:.4f} | Val Acc {val['accuracy']:.4f} | Val F1 {val['f1']:.4f}\"\n",
    "    )\n",
    "\n",
    "\n",
    "final = evaluate(model, val_loader, device)\n",
    "print(\"\\nValidation Accuracy:\", round(final['accuracy'], 4))\n",
    "print(\"Validation F1:\", round(final['f1'], 4))\n",
    "\n"
   ]
  },
  {
   "cell_type": "markdown",
   "id": "d76be205-3fdb-4805-9458-0d18a18896ac",
   "metadata": {},
   "source": [
    "## Confusion matrix "
   ]
  },
  {
   "cell_type": "code",
   "execution_count": 296,
   "id": "85b157c1-5526-4bef-9c62-f5182be81592",
   "metadata": {},
   "outputs": [
    {
     "name": "stdout",
     "output_type": "stream",
     "text": [
      "[[5 0]\n",
      " [0 5]]\n"
     ]
    },
    {
     "data": {
      "image/png": "[encoded data removed]",
      "text/plain": [
       "<Figure size 400x400 with 2 Axes>"
      ]
     },
     "metadata": {},
     "output_type": "display_data"
    }
   ],
   "source": [
    "import matplotlib.pyplot as plt\n",
    "import numpy as np\n",
    "\n",
    "def plot_confusion_matrix(cm, class_names=[0,1], title=\"Confusion Matrix\"):\n",
    "    fig, ax = plt.subplots(figsize=(4,4))\n",
    "    cax = ax.matshow(cm, cmap=plt.cm.Blues) \n",
    "    plt.title(title)\n",
    "    fig.colorbar(cax)\n",
    "\n",
    "    ax.set_xticks(range(len(class_names)))\n",
    "    \n",
    "    ax.set_yticks(range(len(class_names)))\n",
    "    \n",
    "    ax.set_xticklabels(class_names)\n",
    "    \n",
    "    ax.set_yticklabels(class_names)\n",
    "    \n",
    "    ax.set_xlabel(\"Predicted\")\n",
    "    ax.set_ylabel(\"True\")\n",
    "\n",
    "\n",
    "    for (i, j), val in np.ndenumerate(cm):\n",
    "        ax.text(j, i, f\"{val}\", ha=\"center\", va=\"center\", color=\"black\", fontsize=14)\n",
    "\n",
    "    plt.show()\n",
    "\n",
    "print(final[\"cm\"]) \n",
    "plot_confusion_matrix(final[\"cm\"], class_names=[0,1])\n",
    "\n"
   ]
  },
  {
   "cell_type": "markdown",
   "id": "f38ba739-496a-45d6-9d92-ab5510fe1d0d",
   "metadata": {},
   "source": [
    "# ADDING CROSS VALIDATION "
   ]
  },
  {
   "cell_type": "code",
   "execution_count": 290,
   "id": "c9db10c3-f2bf-4dcb-9fc4-48ac578af20a",
   "metadata": {},
   "outputs": [
    {
     "name": "stdout",
     "output_type": "stream",
     "text": [
      "\n",
      " ------------- Fold 1/5------------\n"
     ]
    },
    {
     "name": "stderr",
     "output_type": "stream",
     "text": [
      "Some weights of DistilBertForSequenceClassification were not initialized from the model checkpoint at distilbert-base-uncased and are newly initialized: ['classifier.bias', 'classifier.weight', 'pre_classifier.bias', 'pre_classifier.weight']\n",
      "You should probably TRAIN this model on a down-stream task to be able to use it for predictions and inference.\n"
     ]
    },
    {
     "name": "stdout",
     "output_type": "stream",
     "text": [
      "[Fold 1 | Epoch 1 | Step 5/5] Avg Train Loss 0.7718\n",
      "[Fold 1 | Epoch 1] Train Acc 0.5000 | Train F1 0.4987 || Val Loss 0.6380 | Val Acc 0.6000 | Val F1 0.4500\n",
      "[Fold 1 | Epoch 2 | Step 5/5] Avg Train Loss 0.9266\n"
     ]
    },
    {
     "name": "stderr",
     "output_type": "stream",
     "text": [
      "Some weights of DistilBertForSequenceClassification were not initialized from the model checkpoint at distilbert-base-uncased and are newly initialized: ['classifier.bias', 'classifier.weight', 'pre_classifier.bias', 'pre_classifier.weight']\n",
      "You should probably TRAIN this model on a down-stream task to be able to use it for predictions and inference.\n"
     ]
    },
    {
     "name": "stdout",
     "output_type": "stream",
     "text": [
      "[Fold 1 | Epoch 2] Train Acc 0.5000 | Train F1 0.4949 || Val Loss 0.6449 | Val Acc 0.6000 | Val F1 0.4500\n",
      "[Fold 1] Confusion matrix (rows=true, cols=pred):\n",
      "[[0 4]\n",
      " [0 6]]\n",
      "\n",
      " ------------- Fold 2/5------------\n",
      "[Fold 2 | Epoch 1 | Step 5/5] Avg Train Loss 0.7655\n",
      "[Fold 2 | Epoch 1] Train Acc 0.5750 | Train F1 0.5325 || Val Loss 0.8015 | Val Acc 0.5000 | Val F1 0.3333\n",
      "[Fold 2 | Epoch 2 | Step 5/5] Avg Train Loss 0.6893\n"
     ]
    },
    {
     "name": "stderr",
     "output_type": "stream",
     "text": [
      "Some weights of DistilBertForSequenceClassification were not initialized from the model checkpoint at distilbert-base-uncased and are newly initialized: ['classifier.bias', 'classifier.weight', 'pre_classifier.bias', 'pre_classifier.weight']\n",
      "You should probably TRAIN this model on a down-stream task to be able to use it for predictions and inference.\n"
     ]
    },
    {
     "name": "stdout",
     "output_type": "stream",
     "text": [
      "[Fold 2 | Epoch 2] Train Acc 0.6250 | Train F1 0.5739 || Val Loss 0.5260 | Val Acc 1.0000 | Val F1 1.0000\n",
      "[Fold 2] Confusion matrix (rows=true, cols=pred):\n",
      "[[5 0]\n",
      " [0 5]]\n",
      "\n",
      " ------------- Fold 3/5------------\n",
      "[Fold 3 | Epoch 1 | Step 5/5] Avg Train Loss 0.9487\n",
      "[Fold 3 | Epoch 1] Train Acc 0.4000 | Train F1 0.3520 || Val Loss 0.6793 | Val Acc 0.5000 | Val F1 0.3333\n",
      "[Fold 3 | Epoch 2 | Step 5/5] Avg Train Loss 0.8265\n"
     ]
    },
    {
     "name": "stderr",
     "output_type": "stream",
     "text": [
      "Some weights of DistilBertForSequenceClassification were not initialized from the model checkpoint at distilbert-base-uncased and are newly initialized: ['classifier.bias', 'classifier.weight', 'pre_classifier.bias', 'pre_classifier.weight']\n",
      "You should probably TRAIN this model on a down-stream task to be able to use it for predictions and inference.\n"
     ]
    },
    {
     "name": "stdout",
     "output_type": "stream",
     "text": [
      "[Fold 3 | Epoch 2] Train Acc 0.4000 | Train F1 0.4000 || Val Loss 0.6812 | Val Acc 0.5000 | Val F1 0.3333\n",
      "[Fold 3] Confusion matrix (rows=true, cols=pred):\n",
      "[[0 5]\n",
      " [0 5]]\n",
      "\n",
      " ------------- Fold 4/5------------\n",
      "[Fold 4 | Epoch 1 | Step 5/5] Avg Train Loss 0.9431\n",
      "[Fold 4 | Epoch 1] Train Acc 0.5500 | Train F1 0.5500 || Val Loss 0.6977 | Val Acc 0.5000 | Val F1 0.3333\n",
      "[Fold 4 | Epoch 2 | Step 5/5] Avg Train Loss 0.7405\n"
     ]
    },
    {
     "name": "stderr",
     "output_type": "stream",
     "text": [
      "Some weights of DistilBertForSequenceClassification were not initialized from the model checkpoint at distilbert-base-uncased and are newly initialized: ['classifier.bias', 'classifier.weight', 'pre_classifier.bias', 'pre_classifier.weight']\n",
      "You should probably TRAIN this model on a down-stream task to be able to use it for predictions and inference.\n"
     ]
    },
    {
     "name": "stdout",
     "output_type": "stream",
     "text": [
      "[Fold 4 | Epoch 2] Train Acc 0.3750 | Train F1 0.3690 || Val Loss 0.6574 | Val Acc 0.5000 | Val F1 0.3333\n",
      "[Fold 4] Confusion matrix (rows=true, cols=pred):\n",
      "[[5 0]\n",
      " [5 0]]\n",
      "\n",
      " ------------- Fold 5/5------------\n",
      "[Fold 5 | Epoch 1 | Step 5/5] Avg Train Loss 0.7838\n",
      "[Fold 5 | Epoch 1] Train Acc 0.5750 | Train F1 0.5325 || Val Loss 0.8277 | Val Acc 0.5000 | Val F1 0.3333\n",
      "[Fold 5 | Epoch 2 | Step 5/5] Avg Train Loss 0.7216\n",
      "[Fold 5 | Epoch 2] Train Acc 0.4750 | Train F1 0.4740 || Val Loss 0.6843 | Val Acc 0.5000 | Val F1 0.3333\n",
      "[Fold 5] Confusion matrix (rows=true, cols=pred):\n",
      "[[0 5]\n",
      " [0 5]]\n"
     ]
    }
   ],
   "source": [
    "from sklearn.model_selection import StratifiedKFold\n",
    "\n",
    "\n",
    "n_splits = 5\n",
    "\n",
    "skf = StratifiedKFold(n_splits=n_splits, shuffle=True, random_state=34)\n",
    "\n",
    "fold_acc, fold_f1 = [], []  \n",
    "\n",
    "for fold, (tr_idx, va_idx) in enumerate(skf.split(df[\"text\"], df[\"label\"]), start=1):\n",
    "    print(f\"\\n ------------- Fold {fold}/{n_splits}------------\")\n",
    "\n",
    "\n",
    "    train_df = df.iloc[tr_idx].reset_index(drop=True)\n",
    "    \n",
    "    val_df   = df.iloc[va_idx].reset_index(drop=True)\n",
    "\n",
    "    train_enc = tokenizer(train_df[\"text\"].astype(str).tolist(),truncation=True, padding=\"max_length\", max_length=128)\n",
    "    \n",
    "    val_enc = tokenizer(val_df[\"text\"].astype(str).tolist(),truncation=True, padding=\"max_length\", max_length=128)\n",
    "\n",
    "\n",
    "    train_ds = E_dataset(train_enc, train_df[\"label\"])\n",
    "    \n",
    "    val_ds   = E_dataset(val_enc,   val_df[\"label\"])\n",
    "    \n",
    "    train_loader = DataLoader(train_ds, batch_size=8, shuffle=True)\n",
    "    \n",
    "    val_loader   = DataLoader(val_ds,   batch_size=4, shuffle=False)\n",
    "\n",
    "\n",
    "    model = AutoModelForSequenceClassification.from_pretrained(\"distilbert-base-uncased\", num_labels=2).to(device)\n",
    "    \n",
    "    opt = AdamW(model.parameters(), lr=1e-3, weight_decay=0.01) \n",
    "\n",
    "    def evaluate_current():\n",
    "        model.eval()\n",
    "        all_preds, all_labels = [], []\n",
    "        total_loss, steps = 0.0, 0\n",
    "        \n",
    "        with torch.no_grad():\n",
    "            \n",
    "            for batch in val_loader:\n",
    "                \n",
    "                batch = {k: v.to(device) for k, v in batch.items()}\n",
    "                \n",
    "                out = model(**batch)\n",
    "                \n",
    "                total_loss += out.loss.item(); steps += 1\n",
    "                \n",
    "                preds  = out.logits.argmax(dim=-1).detach().cpu().numpy()\n",
    "                \n",
    "                labels = batch[\"labels\"].detach().cpu().numpy()\n",
    "                \n",
    "                all_preds.extend(preds); all_labels.extend(labels)\n",
    "                \n",
    "        avg_loss = total_loss / max(1, steps)\n",
    "        \n",
    "        acc = accuracy_score(all_labels, all_preds)\n",
    "        \n",
    "        f1  = f1_score(all_labels, all_preds, average=\"weighted\")\n",
    "        \n",
    "        return {\"loss\": avg_loss, \"accuracy\": acc, \"f1\": f1,\n",
    "                \"y_true\": all_labels, \"y_pred\": all_preds}\n",
    "\n",
    "    epochs = 2\n",
    "    for epoch in range(1, epochs + 1):\n",
    "        model.train()\n",
    "        running = 0.0\n",
    "        train_preds, train_labels = [], []\n",
    "\n",
    "        for step, batch in enumerate(train_loader, start=1):\n",
    "            batch = {k: v.to(device) for k, v in batch.items()}\n",
    "\n",
    "            opt.zero_grad(set_to_none=True)\n",
    "            out = model(**batch)\n",
    "            loss = out.loss\n",
    "            loss.backward()\n",
    "            opt.step()\n",
    "\n",
    "            running += loss.item()\n",
    "            \n",
    "            # collecting train metrics\n",
    "            \n",
    "            preds  = out.logits.argmax(dim=-1).detach().cpu().tolist()\n",
    "            \n",
    "            labels = batch[\"labels\"].detach().cpu().tolist()\n",
    "            \n",
    "            train_preds.extend(preds); train_labels.extend(labels)\n",
    "\n",
    "            if step % 5== 0 or step == len(train_loader): print(f\"[Fold {fold} | Epoch {epoch} | Step {step}/{len(train_loader)}] \"f\"Avg Train Loss {running/step:.4f}\")\n",
    "\n",
    "\n",
    "        tr_acc = accuracy_score(train_labels, train_preds)\n",
    "        \n",
    "        tr_f1  = f1_score(train_labels, train_preds, average=\"weighted\")\n",
    "\n",
    "\n",
    "        \n",
    "        val = evaluate_current()\n",
    "\n",
    "        \n",
    "        print(f\"[Fold {fold} | Epoch {epoch}] \"f\"Train Acc {tr_acc:.4f} | Train F1 {tr_f1:.4f} || \"f\"Val Loss {val['loss']:.4f} | Val Acc {val['accuracy']:.4f} | Val F1 {val['f1']:.4f}\")\n",
    "\n",
    "    # record this fold’s results\n",
    "    fold_acc.append(val[\"accuracy\"]); fold_f1.append(val[\"f1\"])\n",
    "\n",
    "    # confusion matrix per fold \n",
    "    cm = confusion_matrix(val[\"y_true\"], val[\"y_pred\"], labels=[0, 1])\n",
    "    print(f\"[Fold {fold}] Confusion matrix (rows=true, cols=pred):\\n{cm}\")\n",
    "\n",
    "\n"
   ]
  },
  {
   "cell_type": "code",
   "execution_count": null,
   "id": "f03317e3-0a21-40a6-8a8b-693b2120f181",
   "metadata": {},
   "outputs": [],
   "source": []
  }
 ],
 "metadata": {
  "kernelspec": {
   "display_name": "Python 3 (ipykernel)",
   "language": "python",
   "name": "python3"
  },
  "language_info": {
   "codemirror_mode": {
    "name": "ipython",
    "version": 3
   },
   "file_extension": ".py",
   "mimetype": "text/x-python",
   "name": "python",
   "nbconvert_exporter": "python",
   "pygments_lexer": "ipython3",
   "version": "3.11.8"
  }
 },
 "nbformat": 4,
 "nbformat_minor": 5
}
