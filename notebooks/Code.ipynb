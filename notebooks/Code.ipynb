{
 "cells": [
  {
   "cell_type": "code",
   "execution_count": 31,
   "id": "13339b04-586a-47a2-9bdc-7a8c87a243b9",
   "metadata": {},
   "outputs": [],
   "source": [
    "import pandas as pd\n",
    "from pathlib import Path"
   ]
  },
  {
   "cell_type": "markdown",
   "id": "fe9c5345-aa02-4bca-919e-b1e48783e8b3",
   "metadata": {},
   "source": [
    "# Preprocessing / Checking Data"
   ]
  },
  {
   "cell_type": "code",
   "execution_count": 32,
   "id": "46cf8939-c9f1-457f-84ea-c551bff5823b",
   "metadata": {},
   "outputs": [],
   "source": [
    "# path to the csv file(data)\n",
    "data_path = Path(\"../data/training-dataset.csv\")\n"
   ]
  },
  {
   "cell_type": "code",
   "execution_count": 33,
   "id": "d4dcf639-5399-4308-aae5-2b8afe8591ea",
   "metadata": {},
   "outputs": [],
   "source": [
    "#reading the csv file ... most of the time there is issue with the text type that is why I put encoding 'utf-8'\n",
    "\n",
    "df = pd.read_csv(data_path, encoding=\"utf-8\")"
   ]
  },
  {
   "cell_type": "code",
   "execution_count": 34,
   "id": "bb4467a8-28ba-4e2a-9011-5c97af8cf533",
   "metadata": {},
   "outputs": [
    {
     "data": {
      "text/html": [
       "<div>\n",
       "<style scoped>\n",
       "    .dataframe tbody tr th:only-of-type {\n",
       "        vertical-align: middle;\n",
       "    }\n",
       "\n",
       "    .dataframe tbody tr th {\n",
       "        vertical-align: top;\n",
       "    }\n",
       "\n",
       "    .dataframe thead th {\n",
       "        text-align: right;\n",
       "    }\n",
       "</style>\n",
       "<table border=\"1\" class=\"dataframe\">\n",
       "  <thead>\n",
       "    <tr style=\"text-align: right;\">\n",
       "      <th></th>\n",
       "      <th>note_id</th>\n",
       "      <th>text</th>\n",
       "      <th>label</th>\n",
       "    </tr>\n",
       "  </thead>\n",
       "  <tbody>\n",
       "    <tr>\n",
       "      <th>0</th>\n",
       "      <td>N2013</td>\n",
       "      <td>Patient reports flooding during menses since m...</td>\n",
       "      <td>1</td>\n",
       "    </tr>\n",
       "    <tr>\n",
       "      <th>1</th>\n",
       "      <td>N2015</td>\n",
       "      <td>Patient reports heavy menses since stopping OC...</td>\n",
       "      <td>1</td>\n",
       "    </tr>\n",
       "    <tr>\n",
       "      <th>2</th>\n",
       "      <td>N2022</td>\n",
       "      <td>Patient reports HMB for the past 6 months, des...</td>\n",
       "      <td>1</td>\n",
       "    </tr>\n",
       "    <tr>\n",
       "      <th>3</th>\n",
       "      <td>N2042</td>\n",
       "      <td>Patient no menorrhagia; menses reported as reg...</td>\n",
       "      <td>0</td>\n",
       "    </tr>\n",
       "    <tr>\n",
       "      <th>4</th>\n",
       "      <td>N2030</td>\n",
       "      <td>Patient bleeding within normal limits; menses ...</td>\n",
       "      <td>0</td>\n",
       "    </tr>\n",
       "  </tbody>\n",
       "</table>\n",
       "</div>"
      ],
      "text/plain": [
       "  note_id                                               text  label\n",
       "0   N2013  Patient reports flooding during menses since m...      1\n",
       "1   N2015  Patient reports heavy menses since stopping OC...      1\n",
       "2   N2022  Patient reports HMB for the past 6 months, des...      1\n",
       "3   N2042  Patient no menorrhagia; menses reported as reg...      0\n",
       "4   N2030  Patient bleeding within normal limits; menses ...      0"
      ]
     },
     "execution_count": 34,
     "metadata": {},
     "output_type": "execute_result"
    }
   ],
   "source": [
    "#checking top rows \n",
    "df.head()"
   ]
  },
  {
   "cell_type": "code",
   "execution_count": 35,
   "id": "9dc6e767-0d39-4c39-a00c-b4a8105c2087",
   "metadata": {},
   "outputs": [
    {
     "name": "stdout",
     "output_type": "stream",
     "text": [
      " Shape (rows, cols): (50, 3)\n",
      " Columns: ['note_id', 'text', 'label']\n"
     ]
    }
   ],
   "source": [
    "\n",
    "# the shape of file ( num of rows and columns)\n",
    "# list the name of columns\n",
    "\n",
    "print(\" Shape (rows, cols):\", df.shape)\n",
    "print(\" Columns:\", list(df.columns))"
   ]
  },
  {
   "cell_type": "code",
   "execution_count": 36,
   "id": "01c4cde2-c97a-45a3-a2da-f4e18367afd3",
   "metadata": {},
   "outputs": [
    {
     "data": {
      "text/plain": [
       "note_id    0.0\n",
       "text       0.0\n",
       "label      0.0\n",
       "dtype: float64"
      ]
     },
     "metadata": {},
     "output_type": "display_data"
    }
   ],
   "source": [
    "#Checking how many missing values each column has\n",
    "null_fraction = df.isna().mean().sort_values(ascending=False)\n",
    "display(null_fraction.head(10))"
   ]
  },
  {
   "cell_type": "code",
   "execution_count": 37,
   "id": "9a45f033-7625-4c96-b14a-097f8bf0c646",
   "metadata": {},
   "outputs": [
    {
     "name": "stdout",
     "output_type": "stream",
     "text": [
      " Duplicate rows: 0\n"
     ]
    }
   ],
   "source": [
    "# counting exact duplicate rows\n",
    "dup_count = df.duplicated().sum()\n",
    "\n",
    "print(f\" Duplicate rows: {dup_count}\")"
   ]
  },
  {
   "cell_type": "code",
   "execution_count": 38,
   "id": "71ea4266-2894-4587-a7fd-a3b91944d54c",
   "metadata": {},
   "outputs": [
    {
     "name": "stdout",
     "output_type": "stream",
     "text": [
      "Unique (raw): [1 0]\n"
     ]
    }
   ],
   "source": [
    "# checking if label column is 0/1 all of them \n",
    "print(\"Unique (raw):\", pd.unique(df['label']))"
   ]
  },
  {
   "cell_type": "code",
   "execution_count": 39,
   "id": "a2b68eec-7d8d-436d-8866-fc6ae59f68c7",
   "metadata": {},
   "outputs": [
    {
     "name": "stdout",
     "output_type": "stream",
     "text": [
      "Empty/whitespace-only texts: 0\n",
      " None found\n"
     ]
    }
   ],
   "source": [
    "# if we had longer and larger dataset \n",
    "#checking if texts are empty or whitespaced\n",
    "\n",
    "s = df['text'].astype(str)\n",
    "s_norm = s.str.replace(r\"\\s+\", \" \", regex=True).str.strip()\n",
    "\n",
    "empty_mask = df['text'].isna() | s_norm.eq(\"\")\n",
    "print(\"Empty/whitespace-only texts:\", int(empty_mask.sum()))\n",
    "df.loc[empty_mask, ['note_id','text']].head(10) if empty_mask.any() else print(\" None found\")\n"
   ]
  },
  {
   "cell_type": "code",
   "execution_count": 66,
   "id": "58a96093-3777-41bd-bd2f-c46e3807dcb8",
   "metadata": {},
   "outputs": [
    {
     "data": {
      "text/html": [
       "<div>\n",
       "<style scoped>\n",
       "    .dataframe tbody tr th:only-of-type {\n",
       "        vertical-align: middle;\n",
       "    }\n",
       "\n",
       "    .dataframe tbody tr th {\n",
       "        vertical-align: top;\n",
       "    }\n",
       "\n",
       "    .dataframe thead th {\n",
       "        text-align: right;\n",
       "    }\n",
       "</style>\n",
       "<table border=\"1\" class=\"dataframe\">\n",
       "  <thead>\n",
       "    <tr style=\"text-align: right;\">\n",
       "      <th></th>\n",
       "      <th>text</th>\n",
       "      <th>label</th>\n",
       "    </tr>\n",
       "  </thead>\n",
       "  <tbody>\n",
       "    <tr>\n",
       "      <th>0</th>\n",
       "      <td>Patient reports flooding during menses since m...</td>\n",
       "      <td>1</td>\n",
       "    </tr>\n",
       "    <tr>\n",
       "      <th>1</th>\n",
       "      <td>Patient reports heavy menses since stopping OC...</td>\n",
       "      <td>1</td>\n",
       "    </tr>\n",
       "    <tr>\n",
       "      <th>2</th>\n",
       "      <td>Patient reports HMB for the past 6 months, des...</td>\n",
       "      <td>1</td>\n",
       "    </tr>\n",
       "    <tr>\n",
       "      <th>3</th>\n",
       "      <td>Patient no menorrhagia; menses reported as reg...</td>\n",
       "      <td>0</td>\n",
       "    </tr>\n",
       "    <tr>\n",
       "      <th>4</th>\n",
       "      <td>Patient bleeding within normal limits; menses ...</td>\n",
       "      <td>0</td>\n",
       "    </tr>\n",
       "  </tbody>\n",
       "</table>\n",
       "</div>"
      ],
      "text/plain": [
       "                                                text  label\n",
       "0  Patient reports flooding during menses since m...      1\n",
       "1  Patient reports heavy menses since stopping OC...      1\n",
       "2  Patient reports HMB for the past 6 months, des...      1\n",
       "3  Patient no menorrhagia; menses reported as reg...      0\n",
       "4  Patient bleeding within normal limits; menses ...      0"
      ]
     },
     "execution_count": 66,
     "metadata": {},
     "output_type": "execute_result"
    }
   ],
   "source": [
    "df = df[[\"text\", \"label\"]].dropna()   \n",
    "df.head()"
   ]
  },
  {
   "cell_type": "markdown",
   "id": "404610d9-fb29-43b3-af1a-6da7b877af5c",
   "metadata": {},
   "source": [
    "## 2.\tTokenize the text field using a Hugging Face model (e.g., `bert-base-uncased`)."
   ]
  },
  {
   "cell_type": "code",
   "execution_count": 40,
   "id": "6ac5c568-d71d-460e-9ce4-46a51baac6e6",
   "metadata": {},
   "outputs": [
    {
     "name": "stdout",
     "output_type": "stream",
     "text": [
      "Loaded tokenizer: bert-base-uncased\n"
     ]
    }
   ],
   "source": [
    "from transformers import AutoTokenizer\n",
    "\n",
    "max_length = 256   # max length for tokens\n",
    "tokenizer_name = \"bert-base-uncased\"\n",
    "\n",
    "\n",
    "tokenizer = AutoTokenizer.from_pretrained(tokenizer_name, use_fast=True)\n",
    "print(\"Loaded tokenizer:\", tokenizer.name_or_path)\n",
    "\n"
   ]
  },
  {
   "cell_type": "code",
   "execution_count": 59,
   "id": "035dfd68-1ffe-4e00-8580-610b427f84cd",
   "metadata": {},
   "outputs": [
    {
     "name": "stdout",
     "output_type": "stream",
     "text": [
      "Rows tokenized: 50\n"
     ]
    }
   ],
   "source": [
    "texts = df['text'].astype(str).tolist()\n",
    "\n",
    "enc_all = tokenizer(\n",
    "    texts,\n",
    "    truncation=True,              # cut extra tokens\n",
    "    max_length=max_length,\n",
    "    padding='max_length'          \n",
    ")\n",
    "\n",
    "print(\"Rows tokenized:\", len(enc_all[\"input_ids\"]))\n"
   ]
  },
  {
   "cell_type": "markdown",
   "id": "10fcbd74-a189-4aa0-9ca1-7bc46cfabf51",
   "metadata": {},
   "source": [
    "## 3.\tTrain a small classifier (e.g., `distilbert-base-uncased`) for 1–2 epochs."
   ]
  },
  {
   "cell_type": "code",
   "execution_count": 60,
   "id": "4c82f4a3-a14f-4b57-bb77-9e3e902ef3a7",
   "metadata": {},
   "outputs": [],
   "source": [
    "labels = df[\"label\"].astype(int).tolist()\n",
    "ids = df[\"note_id\"].tolist()"
   ]
  },
  {
   "cell_type": "code",
   "execution_count": 61,
   "id": "08b5b7ff-a212-4b05-b85a-26643f8b6d3f",
   "metadata": {},
   "outputs": [
    {
     "data": {
      "text/plain": [
       "Dataset({\n",
       "    features: ['input_ids', 'attention_mask', 'label', 'id_note'],\n",
       "    num_rows: 50\n",
       "})"
      ]
     },
     "execution_count": 61,
     "metadata": {},
     "output_type": "execute_result"
    }
   ],
   "source": [
    "# building a HF Dataset from enc_all + labels\n",
    "from datasets import Dataset\n",
    "\n",
    "ds = Dataset.from_dict({\n",
    "    \"input_ids\": enc_all[\"input_ids\"],\n",
    "    \"attention_mask\": enc_all[\"attention_mask\"],\n",
    "    \"label\": labels,\n",
    "    \"id_note\": ids,\n",
    "})\n",
    "\n",
    "ds\n"
   ]
  },
  {
   "cell_type": "code",
   "execution_count": 62,
   "id": "7caf5336-b65b-42d2-bf3d-86d531c97442",
   "metadata": {},
   "outputs": [
    {
     "name": "stdout",
     "output_type": "stream",
     "text": [
      "Train size: 40 | Val size: 10\n"
     ]
    }
   ],
   "source": [
    "from sklearn.model_selection import train_test_split\n",
    "import numpy as np\n",
    "#splitting to train and validation \n",
    "SEED = 42\n",
    "idx = np.arange(len(ds))\n",
    "y = ds[\"label\"]          \n",
    "\n",
    "train_idx, val_idx = train_test_split(idx, test_size=0.2, random_state=SEED, stratify=y)#80% train and 20% validation\n",
    "\n",
    "train_ds = ds.select(train_idx)\n",
    "val_ds   = ds.select(val_idx)\n",
    "\n",
    "#  dropping extra columns not used by the model\n",
    "for col in [\"id_note\"]:\n",
    "    if col in train_ds.column_names:\n",
    "        train_ds = train_ds.remove_columns([col])\n",
    "        val_ds   = val_ds.remove_columns([col])\n",
    "\n",
    "print(\"Train size:\", len(train_ds), \"| Val size:\", len(val_ds))\n"
   ]
  },
  {
   "cell_type": "code",
   "execution_count": 63,
   "id": "b6dfa1da-15b0-42f9-b0d8-1c8b0998ab87",
   "metadata": {},
   "outputs": [
    {
     "data": {
      "text/plain": [
       "Dataset({\n",
       "    features: ['input_ids', 'attention_mask', 'label'],\n",
       "    num_rows: 40\n",
       "})"
      ]
     },
     "execution_count": 63,
     "metadata": {},
     "output_type": "execute_result"
    }
   ],
   "source": [
    "train_ds"
   ]
  },
  {
   "cell_type": "code",
   "execution_count": null,
   "id": "5aa1db64-57b0-4d31-80c3-dc413a9f26a7",
   "metadata": {},
   "outputs": [],
   "source": []
  }
 ],
 "metadata": {
  "kernelspec": {
   "display_name": "Python 3 (ipykernel)",
   "language": "python",
   "name": "python3"
  },
  "language_info": {
   "codemirror_mode": {
    "name": "ipython",
    "version": 3
   },
   "file_extension": ".py",
   "mimetype": "text/x-python",
   "name": "python",
   "nbconvert_exporter": "python",
   "pygments_lexer": "ipython3",
   "version": "3.11.8"
  }
 },
 "nbformat": 4,
 "nbformat_minor": 5
}
